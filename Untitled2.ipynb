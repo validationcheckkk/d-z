{
 "cells": [
  {
   "cell_type": "code",
   "execution_count": 2,
   "id": "ef6f49e9",
   "metadata": {},
   "outputs": [
    {
     "ename": "NameError",
     "evalue": "name 'name' is not defined",
     "output_type": "error",
     "traceback": [
      "\u001b[1;31m---------------------------------------------------------------------------\u001b[0m",
      "\u001b[1;31mNameError\u001b[0m                                 Traceback (most recent call last)",
      "Cell \u001b[1;32mIn[2], line 39\u001b[0m\n\u001b[0;32m     37\u001b[0m \u001b[38;5;28;01mif\u001b[39;00m \u001b[38;5;18m__name__\u001b[39m \u001b[38;5;241m==\u001b[39m \u001b[38;5;124m'\u001b[39m\u001b[38;5;124m__main__\u001b[39m\u001b[38;5;124m'\u001b[39m:\n\u001b[0;32m     38\u001b[0m     main()\n\u001b[1;32m---> 39\u001b[0m \u001b[38;5;28;01mif\u001b[39;00m name \u001b[38;5;241m==\u001b[39m \u001b[38;5;124m'\u001b[39m\u001b[38;5;124mmain\u001b[39m\u001b[38;5;124m'\u001b[39m:   main()\n",
      "\u001b[1;31mNameError\u001b[0m: name 'name' is not defined"
     ]
    }
   ],
   "source": [
    "import csv\n",
    "\n",
    "\n",
    "def read_csv_data(file_path):\n",
    "    with open(file_path, newline='', encoding='utf-8') as csvfile:\n",
    "        return list(csv.DictReader(csvfile))\n",
    "\n",
    "\n",
    "def format_description(row):\n",
    "    sex_map = {'female': 'женского пола', 'male': 'мужского пола'}\n",
    "    sex = sex_map.get(row.get('sex', ''), 'неопределенного пола')\n",
    "\n",
    "    age = row.get('age', 'неизвестного возраста')\n",
    "    device = row.get('device_type', '')\n",
    "    browser = row.get('browser', '')\n",
    "    bill = row.get('bill', '')\n",
    "    region = row.get('region', '')\n",
    "\n",
    "    return (f\"Пользователь {row.get('name', '')} {sex}, {age} лет выполнил(а) покупку на {bill} у.е. \"\n",
    "            f\"с {device} браузера {browser}. Регион, из которого выполнилась покупка: {region}.\")\n",
    "\n",
    "\n",
    "def write_descriptions_to_file(descriptions, output_file_path):\n",
    "    with open(output_file_path, 'w', encoding='utf-8') as file:\n",
    "        file.writelines(f\"{description}\\n\" for description in descriptions)\n",
    "\n",
    "\n",
    "def main():\n",
    "    input_file_path = 'web_clients_correct.csv'\n",
    "    output_file_path = 'client_descriptions.txt'\n",
    "\n",
    "    data = read_csv_data(input_file_path)\n",
    "    descriptions = [format_description(row) for row in data]\n",
    "    write_descriptions_to_file(descriptions, output_file_path)\n",
    "\n",
    "\n",
    "if __name__ == '__main__':\n",
    "    main()\n",
    "if _name__ == 'main':   main()"
   ]
  },
  {
   "cell_type": "code",
   "execution_count": null,
   "id": "0cdbc84f",
   "metadata": {},
   "outputs": [],
   "source": []
  }
 ],
 "metadata": {
  "kernelspec": {
   "display_name": "Python 3 (ipykernel)",
   "language": "python",
   "name": "python3"
  },
  "language_info": {
   "codemirror_mode": {
    "name": "ipython",
    "version": 3
   },
   "file_extension": ".py",
   "mimetype": "text/x-python",
   "name": "python",
   "nbconvert_exporter": "python",
   "pygments_lexer": "ipython3",
   "version": "3.11.5"
  }
 },
 "nbformat": 4,
 "nbformat_minor": 5
}
